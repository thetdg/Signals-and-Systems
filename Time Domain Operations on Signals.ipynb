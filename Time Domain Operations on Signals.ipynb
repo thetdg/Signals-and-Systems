{
 "cells": [
  {
   "cell_type": "markdown",
   "metadata": {},
   "source": [
    "## Time-Domain Operations on Continuous-Time Signals\n",
    "### Tanmoy Dasgupta"
   ]
  },
  {
   "cell_type": "code",
   "execution_count": 1,
   "metadata": {},
   "outputs": [],
   "source": [
    "%config InlineBackend.figure_format = 'svg'\n",
    "\n",
    "from ipywidgets import interactive, interact_manual, Layout, Label, FloatSlider, VBox, HBox, interactive_output\n",
    "import ipywidgets\n",
    "from IPython.display import display\n",
    "import numpy as np\n",
    "import matplotlib.pyplot as plt"
   ]
  },
  {
   "cell_type": "markdown",
   "metadata": {},
   "source": [
    "**Helper functions** for _unit step_, _unit ramp_ and _unit parabolic_ signals"
   ]
  },
  {
   "cell_type": "code",
   "execution_count": 2,
   "metadata": {},
   "outputs": [],
   "source": [
    "from numpy import array\n",
    "import numpy as np\n",
    "import matplotlib.pyplot as plt\n",
    "\n",
    "#unit step function\n",
    "def u(t):\n",
    "    t = array(t).astype('float64')\n",
    "    step_out = (t >= 0).astype('float64')\n",
    "    return step_out\n",
    "\n",
    "#unit ramp function\n",
    "def r(t):\n",
    "    t = array(t).astype('float64')\n",
    "    ramp_out = t * (t >= 0).astype('float64')\n",
    "    return ramp_out\n",
    "\n",
    "#unit parabolic function\n",
    "def p(t):\n",
    "    t = array(t).astype('float64')\n",
    "    parabolic_out = t * t * (t >= 0).astype('float64')\n",
    "    return parabolic_out"
   ]
  },
  {
   "cell_type": "markdown",
   "metadata": {},
   "source": [
    "#### Place to define the `time` variable $t$ and the signal $x(t)$ "
   ]
  },
  {
   "cell_type": "code",
   "execution_count": 17,
   "metadata": {},
   "outputs": [],
   "source": [
    "t = np.linspace(-8, 8, 1000)\n",
    "\n",
    "def x(t):\n",
    "    return u(t + 1) + u(t) - u(t - 1) - r(t - 1) + r(t - 2)"
   ]
  },
  {
   "cell_type": "markdown",
   "metadata": {},
   "source": [
    "#### The plots and UI elements"
   ]
  },
  {
   "cell_type": "code",
   "execution_count": 18,
   "metadata": {},
   "outputs": [],
   "source": [
    "def signal_transform(amp_scale=1, amp_shift=0, time_scale=1, time_shift=0):\n",
    "    \n",
    "    x_data = x(t)\n",
    "    x1_data = amp_scale * x(time_scale * t + time_shift) + amp_shift\n",
    "    tmin, tmax = np.amin(t), np.amax(t)\n",
    "    y0min, y0max = np.amin(x_data) - 0.5, np.amax(x_data) + 0.5\n",
    "    y1min, y1max = np.amin(x1_data) - 0.5, np.amax(x1_data) + 0.5\n",
    "    ymin, ymax = min(y0min, y1min), max(y0max, y1max)\n",
    "    font_size = 12\n",
    "    \n",
    "    label_txt = r'${}\\, x({}\\,t'.format(amp_scale, time_scale)\n",
    "    if time_shift == 0:\n",
    "        label_txt += ')'\n",
    "    elif time_shift < 0:\n",
    "        label_txt += '{})'.format(time_shift)\n",
    "    elif time_shift > 0:\n",
    "        label_txt += '+{})'.format(time_shift)\n",
    "        \n",
    "    if amp_shift == 0:\n",
    "        label_txt += '$'\n",
    "    elif amp_shift < 0:\n",
    "        label_txt += '{}$'.format(amp_shift)\n",
    "    elif amp_shift > 0:\n",
    "        label_txt += '+{}$'.format(amp_shift)\n",
    "    \n",
    "    plt.figure(figsize=(9, 6))\n",
    "    ax1= plt.subplot(2, 1, 1)\n",
    "    ax1.set_xlim([tmin, tmax])\n",
    "    ax1.set_ylim([ymin, ymax])   \n",
    "    ax1.plot(t, x_data, 'k', lw=2, label=r'$x(t)$')    \n",
    "    ax1.set_xticks(np.arange(tmin, tmax + 1, 1.0))\n",
    "    ax1.set_yticks(np.arange(ymin, ymax + 0.5, 0.5))\n",
    "    ax1.tick_params(axis='both', labelsize=font_size)\n",
    "    plt.legend(fontsize=font_size)\n",
    "    plt.grid()\n",
    "    \n",
    "    ax2= plt.subplot(2, 1, 2)\n",
    "    ax2.set_xlim([tmin, tmax])\n",
    "    ax2.set_ylim([ymin, ymax])\n",
    "    ax2.plot(t, x1_data, 'r', lw=2, label=label_txt)\n",
    "    ax2.set_xticks(np.arange(tmin, tmax + 1, 1.0))\n",
    "    ax2.set_yticks(np.arange(ymin, ymax + 0.5, 0.5)) \n",
    "    ax2.tick_params(axis='both', labelsize=font_size)\n",
    "    plt.xlabel('t (sec)', fontsize=font_size)\n",
    "    plt.legend(fontsize=font_size)\n",
    "    plt.grid()\n",
    "    \n",
    "    plt.show()"
   ]
  },
  {
   "cell_type": "code",
   "execution_count": 22,
   "metadata": {},
   "outputs": [
    {
     "data": {
      "application/vnd.jupyter.widget-view+json": {
       "model_id": "a7838fa12c564cd8a5244dbe700b5ee8",
       "version_major": 2,
       "version_minor": 0
      },
      "text/html": [
       "<p>Failed to display Jupyter Widget of type <code>VBox</code>.</p>\n",
       "<p>\n",
       "  If you're reading this message in the Jupyter Notebook or JupyterLab Notebook, it may mean\n",
       "  that the widgets JavaScript is still loading. If this message persists, it\n",
       "  likely means that the widgets JavaScript library is either not installed or\n",
       "  not enabled. See the <a href=\"https://ipywidgets.readthedocs.io/en/stable/user_install.html\">Jupyter\n",
       "  Widgets Documentation</a> for setup instructions.\n",
       "</p>\n",
       "<p>\n",
       "  If you're reading this message in another frontend (for example, a static\n",
       "  rendering on GitHub or <a href=\"https://nbviewer.jupyter.org/\">NBViewer</a>),\n",
       "  it may mean that your frontend doesn't currently support widgets.\n",
       "</p>\n"
      ],
      "text/plain": [
       "VBox(children=(HBox(children=(VBox(children=(FloatSlider(value=1.0, description='amp scale', max=2.0, min=-2.0, step=0.5), FloatSlider(value=0.0, description='amp shift', max=4.0, min=-4.0, step=0.5))), VBox(children=(FloatSlider(value=1.0, description='time scale', max=2.0, min=-2.0, step=0.5), FloatSlider(value=0.0, description='time shift', max=4.0, min=-4.0, step=0.5))))), Output()))"
      ]
     },
     "metadata": {},
     "output_type": "display_data"
    }
   ],
   "source": [
    "amp_scale = FloatSlider(value=1, min=-2, max=2, step=0.5, description='amp scale')\n",
    "amp_shift = FloatSlider(value=0, min=-4, max=4, step=0.5, description='amp shift')\n",
    "time_scale = FloatSlider(value=1, min=-2, max=2, step=0.5, description='time scale')\n",
    "time_shift = FloatSlider(value=0, min=-4, max=4, step=0.5, description='time shift')\n",
    "\n",
    "amp_sliders = VBox([amp_scale, amp_shift])\n",
    "time_sliders = VBox([time_scale, time_shift])\n",
    "sliders = HBox([amp_sliders, time_sliders])\n",
    "\n",
    "plot_fig = interactive_output(signal_transform, \n",
    "                              {'amp_scale' : amp_scale, 'amp_shift': amp_shift, \n",
    "                               'time_scale' : time_scale, 'time_shift' : time_shift})\n",
    "\n",
    "ui = VBox([sliders, plot_fig])\n",
    "display(ui)"
   ]
  },
  {
   "cell_type": "code",
   "execution_count": null,
   "metadata": {},
   "outputs": [],
   "source": []
  },
  {
   "cell_type": "code",
   "execution_count": null,
   "metadata": {
    "collapsed": true
   },
   "outputs": [],
   "source": []
  }
 ],
 "metadata": {
  "kernelspec": {
   "display_name": "Python 3",
   "language": "python",
   "name": "python3"
  },
  "language_info": {
   "codemirror_mode": {
    "name": "ipython",
    "version": 3
   },
   "file_extension": ".py",
   "mimetype": "text/x-python",
   "name": "python",
   "nbconvert_exporter": "python",
   "pygments_lexer": "ipython3",
   "version": "3.6.4"
  }
 },
 "nbformat": 4,
 "nbformat_minor": 2
}
